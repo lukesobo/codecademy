{
 "cells": [
  {
   "cell_type": "markdown",
   "id": "4576363c",
   "metadata": {},
   "source": [
    "#### Import Libraries\n",
    "\n",
    "Import `torch`, `pandas`, and any other libraries you might need."
   ]
  },
  {
   "cell_type": "code",
   "execution_count": null,
   "id": "51dede19",
   "metadata": {
    "tags": []
   },
   "outputs": [],
   "source": [
    "import pandas as pd\n",
    "import torch\n",
    "import torch.nn as nn\n",
    "import torch.optim as optim\n",
    "from sklearn.model_selection import train_test_split\n",
    "from sklearn.metrics import accuracy_score, classification_report"
   ]
  },
  {
   "cell_type": "markdown",
   "id": "2fa7a95f",
   "metadata": {},
   "source": [
    "#### Import the Dataset\n",
    "\n",
    "Import the `student_performances_encoded.csv` dataset."
   ]
  },
  {
   "cell_type": "code",
   "execution_count": null,
   "id": "62a10899",
   "metadata": {
    "tags": []
   },
   "outputs": [],
   "source": [
    "df = pd.read_csv('student_performances_encoded.csv')\n",
    "df.info()\n",
    "print(df.Total_Salary.value_counts())"
   ]
  },
  {
   "cell_type": "markdown",
   "id": "b923cb39",
   "metadata": {},
   "source": [
    "#### Explore the Dataset\n",
    "\n",
    "Explore the different features in the dataset. If needed,refer to `student_performances_raw.csv` to see the unencoded fields.\n",
    "\n",
    "Are there any classification problems you would like to try out? Pick a target label to move forward with!"
   ]
  },
  {
   "cell_type": "markdown",
   "id": "4bfd989b",
   "metadata": {},
   "source": [
    "#### Create Tensors\n",
    "\n",
    "Create a tensor with input features for your model, and another tensor with just the target labels. Remember that the target labels are expected to be integers starting at `0`."
   ]
  },
  {
   "cell_type": "code",
   "execution_count": null,
   "id": "0d55767d",
   "metadata": {
    "tags": []
   },
   "outputs": [],
   "source": [
    "#print(df.Total_Salary.unique())\n",
    "\n",
    "#will be predicting the Total Salary Label\n",
    "\n",
    "#adding since not all labels are in test dataset due to small size\n",
    "#Create Salary_Outcome target column {0: Below Average, 1: Average, 2: Above Average\n",
    "df['Salary_Outcome'] = df['Total_Salary'].replace({0:0, \n",
    "                                                    1:1, 2:1,\n",
    "                                                    3:2, 4:2})\n",
    "\n",
    "cols_not_features = ['Student_ID', 'Total_Salary', 'Salary_Outcome']\n",
    "#cols_not_features = ['Student_ID', 'Total_Salary']\n",
    "train_features = [x for x in df.columns if x not in cols_not_features]\n",
    "\n",
    "X = torch.tensor(df[train_features].values, dtype=torch.float)\n",
    "#y = torch.tensor(df['Total_Salary'].values, dtype=torch.long)\n",
    "y = torch.tensor(df['Salary_Outcome'].values, dtype=torch.long)"
   ]
  },
  {
   "cell_type": "markdown",
   "id": "c3cdc20a",
   "metadata": {},
   "source": [
    "#### Train-test-split\n",
    "\n",
    "Use scikit-learn to create a training dataset and a testing dataset."
   ]
  },
  {
   "cell_type": "code",
   "execution_count": null,
   "id": "0ee0070d",
   "metadata": {
    "tags": []
   },
   "outputs": [],
   "source": [
    "X_train, X_test, y_train, y_test = train_test_split(X,y,train_size = 0.8, random_state=49)"
   ]
  },
  {
   "cell_type": "markdown",
   "id": "cbee2d9a",
   "metadata": {},
   "source": [
    "#### Build and Train the Model\n",
    "\n",
    "Create a model using `Sequential`. Select appropriate loss and optimizer functions. Create and run a training loop."
   ]
  },
  {
   "cell_type": "code",
   "execution_count": null,
   "id": "244115db",
   "metadata": {
    "tags": []
   },
   "outputs": [],
   "source": [
    "torch.manual_seed(49)\n",
    "\n",
    "model = nn.Sequential(\n",
    "    nn.Linear(56, 224),\n",
    "    nn.ReLU(),\n",
    "    nn.Linear(224, 112),\n",
    "    nn.ReLU(),\n",
    "    #nn.Linear(112, 5)\n",
    "    nn.Linear(112, 3)\n",
    ")\n",
    "\n",
    "loss = nn.CrossEntropyLoss()\n",
    "optimizer = optim.SGD(model.parameters(), lr=0.001)\n",
    "\n",
    "num_epochs = 5000\n",
    "\n",
    "for i in range(num_epochs):\n",
    "    preds = model(X_train)\n",
    "    CEloss = loss(preds, y_train)\n",
    "    CEloss.backward()\n",
    "    optimizer.step()\n",
    "    optimizer.zero_grad()\n",
    "    \n",
    "    \n",
    "    if (i + 1) % 100 == 0:\n",
    "        predicted_labels = torch.argmax(preds, dim=1)\n",
    "        accuracy = accuracy_score(y_train, predicted_labels)\n",
    "        print(f'Epoch {i+ 1}/{num_epochs}, CELoss: {CEloss}, accuracy score: {accuracy}')"
   ]
  },
  {
   "cell_type": "markdown",
   "id": "e422f322",
   "metadata": {},
   "source": [
    "#### Evaluate the model\n",
    "\n",
    "Test the trained model on the testing dataset. How did you do? Feel free to go back and iterate on your decisions to try to improve your model performance!"
   ]
  },
  {
   "cell_type": "code",
   "execution_count": null,
   "id": "a87be95a",
   "metadata": {
    "tags": []
   },
   "outputs": [],
   "source": [
    "model.eval()\n",
    "with torch.no_grad():\n",
    "    predictions = model(X_test)\n",
    "    predicted_labels = torch.argmax(predictions, dim=1)\n",
    "    accuracy = accuracy_score(predicted_labels, y_test)\n",
    "    report = classification_report(predicted_labels, y_test)\n",
    "    \n",
    "print(f\"Accuracy: {accuracy}\")\n",
    "print(report)"
   ]
  },
  {
   "cell_type": "code",
   "execution_count": null,
   "id": "0a7edc86-cd95-4016-8168-cccd0cbc1137",
   "metadata": {
    "tags": []
   },
   "outputs": [],
   "source": [
    "print(df.Salary_Outcome.value_counts())\n",
    "# classes were highly imabalanced and there was not enough data. Moving on."
   ]
  }
 ],
 "metadata": {
  "kernelspec": {
   "display_name": "saturn (Python 3)",
   "language": "python",
   "name": "python3"
  },
  "language_info": {
   "codemirror_mode": {
    "name": "ipython",
    "version": 3
   },
   "file_extension": ".py",
   "mimetype": "text/x-python",
   "name": "python",
   "nbconvert_exporter": "python",
   "pygments_lexer": "ipython3",
   "version": "3.9.17"
  }
 },
 "nbformat": 4,
 "nbformat_minor": 5
}
