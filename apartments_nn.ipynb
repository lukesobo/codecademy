{
 "cells": [
  {
   "cell_type": "markdown",
   "id": "367ce5ab",
   "metadata": {},
   "source": [
    "# Import Libraries\n",
    "\n",
    "Import PyTorch, pandas, NumPy, and scikit-learn. (Or feel free to import them as needed in the cells below.)"
   ]
  },
  {
   "cell_type": "code",
   "execution_count": null,
   "id": "d8c95d6c",
   "metadata": {
    "tags": []
   },
   "outputs": [],
   "source": [
    "import pandas as pd\n",
    "import numpy as np\n",
    "import torch\n",
    "import torch.nn as nn\n",
    "import torch.optim as optim\n",
    "from sklearn.model_selection import train_test_split"
   ]
  },
  {
   "cell_type": "markdown",
   "id": "71be6bba",
   "metadata": {},
   "source": [
    "# Import Data\n",
    "\n",
    "Import the `streeteasy.csv` dataset and preview the first few rows."
   ]
  },
  {
   "cell_type": "code",
   "execution_count": null,
   "id": "ccccea34",
   "metadata": {
    "tags": []
   },
   "outputs": [],
   "source": [
    "df = pd.read_csv('streeteasy.csv')\n",
    "df.head()\n",
    "df.info()"
   ]
  },
  {
   "cell_type": "markdown",
   "id": "382897af",
   "metadata": {},
   "source": [
    "# Select Target\n",
    "\n",
    "Select the numeric column that the neural network will be trying to predict. Feel free to use rent again, or try to predict another column!\n",
    "\n",
    "Convert this column to a PyTorch tensor."
   ]
  },
  {
   "cell_type": "code",
   "execution_count": null,
   "id": "a8543760",
   "metadata": {
    "tags": []
   },
   "outputs": [],
   "source": [
    "y = torch.tensor(df['rent'].values, dtype=torch.float).view(-1,1)"
   ]
  },
  {
   "cell_type": "markdown",
   "id": "427b8afb",
   "metadata": {},
   "source": [
    "# Select Features\n",
    "\n",
    "Select the numeric columns that the neural network will use as input features to predict the target."
   ]
  },
  {
   "cell_type": "code",
   "execution_count": null,
   "id": "6f12c738",
   "metadata": {
    "tags": []
   },
   "outputs": [],
   "source": [
    "numerical_features = ['bedrooms', 'bathrooms', 'size_sqft', 'min_to_subway', 'floor', 'building_age_yrs',\n",
    "                      'no_fee', 'has_roofdeck', 'has_washer_dryer', 'has_doorman', 'has_elevator', 'has_dishwasher',\n",
    "                      'has_patio', 'has_gym']\n",
    "\n",
    "X = torch.tensor(df[numerical_features].values, dtype=torch.float)"
   ]
  },
  {
   "cell_type": "markdown",
   "id": "d573b58a",
   "metadata": {},
   "source": [
    "# Train-Test-Split\n",
    "\n",
    "Split the features and target into training and testing datasets. A good initial proportion is 80/20."
   ]
  },
  {
   "cell_type": "code",
   "execution_count": null,
   "id": "a242b87c",
   "metadata": {
    "tags": []
   },
   "outputs": [],
   "source": [
    "X_train, X_test, y_train, y_test = train_test_split(X, y, train_size = 0.8, random_state = 49)"
   ]
  },
  {
   "cell_type": "markdown",
   "id": "6823d7ee",
   "metadata": {},
   "source": [
    "# Create a Neural Network\n",
    "\n",
    "Create a neural network using either `Sequential` or OOP. Remember, the first `nn.Linear()` needs to match the number of input features, and the final output needs to have one node for regression."
   ]
  },
  {
   "cell_type": "code",
   "execution_count": null,
   "id": "36ad986e",
   "metadata": {
    "tags": []
   },
   "outputs": [],
   "source": [
    "torch.manual_seed(49)\n",
    "\n",
    "model = nn.Sequential(\n",
    "    nn.Linear(14, 14),\n",
    "    nn.ReLU(),\n",
    "    nn.Linear(14,7),\n",
    "    nn.ReLU(),\n",
    "    nn.Linear(7,1)\n",
    ")"
   ]
  },
  {
   "cell_type": "markdown",
   "id": "b602ed3e",
   "metadata": {},
   "source": [
    "# Select a Loss Function\n",
    "\n",
    "Select a loss function. Feel free to use MSE again, or check out PyTorch's other [loss functions](https://pytorch.org/docs/stable/nn.html#loss-functions). A good alternate to MSE is `nn.L1Loss()`, which is the Mean Absolute Error."
   ]
  },
  {
   "cell_type": "code",
   "execution_count": null,
   "id": "2b089e2c",
   "metadata": {
    "tags": []
   },
   "outputs": [],
   "source": [
    "loss = nn.L1Loss()"
   ]
  },
  {
   "cell_type": "markdown",
   "id": "1c8cc7a8",
   "metadata": {},
   "source": [
    "# Select an Optimizer\n",
    "\n",
    "Select an optimizer. Feel free to use Adam again, or check out PyTorch's other [optimizers](https://pytorch.org/docs/stable/optim.html#algorithms). A good alternate to Adam is `nn.SGD`, another gradient descent algorithm (stochastic gradient descent)."
   ]
  },
  {
   "cell_type": "code",
   "execution_count": null,
   "id": "be2fe226",
   "metadata": {
    "tags": []
   },
   "outputs": [],
   "source": [
    "optimizer = optim.SGD(model.parameters(), lr=0.001)"
   ]
  },
  {
   "cell_type": "markdown",
   "id": "364578af",
   "metadata": {},
   "source": [
    "# Training Loop\n",
    "\n",
    "Use your selected loss and optimizer functions to train the neural network."
   ]
  },
  {
   "cell_type": "code",
   "execution_count": null,
   "id": "6ee7bd19",
   "metadata": {
    "tags": []
   },
   "outputs": [],
   "source": [
    "num_epochs = 5000\n",
    "for epoch in range(num_epochs):\n",
    "    predictions = model(X_train)\n",
    "    MAE = loss(predictions, y_train)\n",
    "    MAE.backward()\n",
    "    optimizer.step()\n",
    "    optimizer.zero_grad()\n",
    "    \n",
    "    if (epoch + 1) % 100 == 0:\n",
    "        print(f\"Epoch {epoch + 1}/{num_epochs}, MAE Loss: {MAE.item()}\")"
   ]
  },
  {
   "cell_type": "markdown",
   "id": "3d17af29",
   "metadata": {},
   "source": [
    "# Experiment\n",
    "\n",
    "Go back and experiment with changing the setup of your neural network. Can you improve its performance using different activation functions or network architecture? What about adjusting the learning rate or switching out loss functions and optimizers?"
   ]
  },
  {
   "cell_type": "markdown",
   "id": "fb554b4f",
   "metadata": {},
   "source": [
    "# Evaluate\n",
    "\n",
    "As you experiment, evaluate each version of your model on the testing dataset, to validate its performance on unseen data."
   ]
  },
  {
   "cell_type": "code",
   "execution_count": null,
   "id": "0777278b",
   "metadata": {
    "tags": []
   },
   "outputs": [],
   "source": [
    "model.eval()\n",
    "\n",
    "with torch.no_grad():\n",
    "    predictions = model(X_test)\n",
    "    test_MAE = loss(predictions, y_test)\n",
    "    \n",
    "print(f\"Test MAE is {str(test_MAE.item())}\")\n",
    "print(f\"Test root MAE is {str(test_MAE.item() ** (1/2))}\")"
   ]
  },
  {
   "cell_type": "markdown",
   "id": "70450869",
   "metadata": {},
   "source": [
    "# Save the Final Network\n",
    "\n",
    "Save your final network for later use."
   ]
  },
  {
   "cell_type": "code",
   "execution_count": null,
   "id": "1e49471a",
   "metadata": {
    "tags": []
   },
   "outputs": [],
   "source": [
    "torch.save(model, 'apartment_model.pth')"
   ]
  }
 ],
 "metadata": {
  "kernelspec": {
   "display_name": "saturn (Python 3)",
   "language": "python",
   "name": "python3"
  },
  "language_info": {
   "codemirror_mode": {
    "name": "ipython",
    "version": 3
   },
   "file_extension": ".py",
   "mimetype": "text/x-python",
   "name": "python",
   "nbconvert_exporter": "python",
   "pygments_lexer": "ipython3",
   "version": "3.9.17"
  }
 },
 "nbformat": 4,
 "nbformat_minor": 5
}
